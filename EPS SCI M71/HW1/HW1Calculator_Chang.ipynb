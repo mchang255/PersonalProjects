{
 "cells": [
  {
   "cell_type": "code",
   "execution_count": 1,
   "metadata": {},
   "outputs": [],
   "source": [
    "import math"
   ]
  },
  {
   "cell_type": "markdown",
   "metadata": {},
   "source": [
    "# Order of Operations\n",
    "1. Parentheses\n",
    "2. Exponents\n",
    "3. Multiplication\n",
    "4. Division\n",
    "5. Addition\n",
    "6. Subtraction"
   ]
  },
  {
   "cell_type": "markdown",
   "metadata": {},
   "source": [
    "# Problem 1"
   ]
  },
  {
   "cell_type": "code",
   "execution_count": 2,
   "metadata": {},
   "outputs": [
    {
     "name": "stdout",
     "output_type": "stream",
     "text": [
      "x =  1.0\n",
      "y =  2.0\n"
     ]
    }
   ],
   "source": [
    "x = math.sqrt(20-4)/4\n",
    "y = math.sqrt((20-4)/4)\n",
    "print('x = ', x)\n",
    "print('y = ', y)\n",
    "\n",
    "#x and y are different because\n",
    "#for x, the operation sqrt(20 - 4) is calculated first and is then divided by 4, to get 1\n",
    "#for y, the operation (20-4)/4 is calculated first, as it's within the parentheses, and then take the square root to get 2"
   ]
  },
  {
   "cell_type": "markdown",
   "metadata": {},
   "source": [
    "# Problem 2"
   ]
  },
  {
   "cell_type": "code",
   "execution_count": 4,
   "metadata": {},
   "outputs": [
    {
     "name": "stdout",
     "output_type": "stream",
     "text": [
      "x =  13.0\n",
      "y =  10.0\n"
     ]
    }
   ],
   "source": [
    "x = 24/6 - 9 + 3 * 6\n",
    "y = 24/(6 - 9) + 3 * 6\n",
    "print('x = ', x)\n",
    "print('y = ', y)\n",
    "\n",
    "#x and y are different because\n",
    "#for x, the division and multiplication are done first, so 24/6 = 4 and 3 * 6 = 18. Then it reads as 4 - 9 + 18, which is 13\n",
    "#for y, the subtraction in the parantheses is done first, so 6 - 9 = -3. The new equation is 24/-3 + 3 * 6. Then, it's the division and multiplication, \n",
    "#so 24/-3 = -8 and 3 * 6 = 18. Then it reads -8 + 18, which is 10"
   ]
  },
  {
   "cell_type": "markdown",
   "metadata": {},
   "source": [
    "# Problem 3"
   ]
  },
  {
   "cell_type": "code",
   "execution_count": 6,
   "metadata": {},
   "outputs": [
    {
     "name": "stdout",
     "output_type": "stream",
     "text": [
      "x =  999999991\n",
      "y =  1\n"
     ]
    }
   ],
   "source": [
    "x = 10**9 - 9\n",
    "y = 10**(9 - 9)\n",
    "print('x = ', x)\n",
    "print('y = ', y)\n",
    "\n",
    "#x and y are different because\n",
    "#for x, the exponent is done first, so 10^9 = 1000000000. Then subtact 9, which is 999999991\n",
    "#for y, the operation in the exponent part is done first because it's bounded by parantheses, so 9-9 = 0. Then do 10^0 to get 1"
   ]
  },
  {
   "cell_type": "markdown",
   "metadata": {},
   "source": [
    "# Problem 4"
   ]
  },
  {
   "cell_type": "code",
   "execution_count": 7,
   "metadata": {},
   "outputs": [
    {
     "name": "stdout",
     "output_type": "stream",
     "text": [
      "x =  6\n",
      "y =  3\n"
     ]
    }
   ],
   "source": [
    "x = 20//3\n",
    "y = 10//3\n",
    "print('x = ', x)\n",
    "print('y = ', y)\n",
    "\n",
    "#x and y are different because\n",
    "#for x, 20/3 = 6.666667. Floor division rounds that down to 6\n",
    "#for y, 10/3 = 3.333333. Flood division rounds that down to 3"
   ]
  },
  {
   "cell_type": "markdown",
   "metadata": {},
   "source": [
    "# Problem 5"
   ]
  },
  {
   "cell_type": "code",
   "execution_count": 8,
   "metadata": {},
   "outputs": [
    {
     "name": "stdout",
     "output_type": "stream",
     "text": [
      "x =  2\n",
      "y =  1\n"
     ]
    }
   ],
   "source": [
    "x = 20%3\n",
    "y = 10%3\n",
    "print('x = ', x)\n",
    "print('y = ', y)\n",
    "\n",
    "#x and y are different because\n",
    "#for x, 20/3 = 6.66667 or 6 2/3. As shown in the fractional portion, the remainder is 2\n",
    "#for y, 10/3 = 3.33333 or 3 1/3. As shown in the fractional portion, the remainder is 1"
   ]
  },
  {
   "cell_type": "markdown",
   "metadata": {},
   "source": [
    "# Problem 6"
   ]
  },
  {
   "cell_type": "code",
   "execution_count": 9,
   "metadata": {},
   "outputs": [
    {
     "name": "stdout",
     "output_type": "stream",
     "text": [
      "x =  1.0\n",
      "y =  6.123233995736766e-17\n"
     ]
    }
   ],
   "source": [
    "x = math.sin(math.pi/2)\n",
    "y = math.sin(math.pi)/2\n",
    "print('x = ', x)\n",
    "print('y = ', y)\n",
    "\n",
    "#x and y are different because\n",
    "#for x, take the sin of the whole thing within the parantheses, and the operation turns out to be 1 because sin(pi/2) = 1\n",
    "#for y, take the sin of what is captured in the parantheses, and the operation turns out to be 0 because sin(pi) = 0. Then divide by 2, which is still 0 \n",
    "#(or really close to 0)"
   ]
  },
  {
   "cell_type": "markdown",
   "metadata": {},
   "source": [
    "# Problem 7"
   ]
  },
  {
   "cell_type": "code",
   "execution_count": 10,
   "metadata": {},
   "outputs": [
    {
     "name": "stdout",
     "output_type": "stream",
     "text": [
      "x =  6.123233995736766e-17\n",
      "y =  -0.5\n"
     ]
    }
   ],
   "source": [
    "x = math.cos(math.pi/2)\n",
    "y = math.cos(math.pi)/2\n",
    "print('x = ', x)\n",
    "print('y = ', y)\n",
    "\n",
    "#x and y are different because\n",
    "#for x, take the cosine of the whole thing within the parantheses, and the operation turns out to be 0 since cos(pi/2) = 0\n",
    "#for y, take the cosine of what is captured in the parantheses, and the operation turns out to be -1 as cos(pi) = -1. Then divide by 2, which is -.5"
   ]
  },
  {
   "cell_type": "markdown",
   "metadata": {},
   "source": [
    "# Problem 8"
   ]
  },
  {
   "cell_type": "code",
   "execution_count": 11,
   "metadata": {},
   "outputs": [
    {
     "name": "stdout",
     "output_type": "stream",
     "text": [
      "x =  0.0\n",
      "y =  3.0\n"
     ]
    }
   ],
   "source": [
    "x = math.log10(1)\n",
    "y = math.log10(1000)\n",
    "print('x = ', x)\n",
    "print('y = ', y)\n",
    "\n",
    "#x and y are different because\n",
    "#for x, log(1) = 0, as log10 finds the exponent that produces the number in parantheses, so to get 1, the exponent is 0, and 10^0 = 1. \n",
    "#for y, log(1000) = 3, as 10^3 = 1000. There are three zeroes in 1000, so raise 10 to the third power yields 1000."
   ]
  },
  {
   "cell_type": "markdown",
   "metadata": {},
   "source": [
    "# Problem 9"
   ]
  },
  {
   "cell_type": "code",
   "execution_count": 12,
   "metadata": {},
   "outputs": [
    {
     "name": "stdout",
     "output_type": "stream",
     "text": [
      "x =  2.718281828459045\n",
      "y =  0.36787944117144233\n"
     ]
    }
   ],
   "source": [
    "x = math.exp(1)\n",
    "y = math.exp(-1)\n",
    "print('x = ', x)\n",
    "print('y = ', y)\n",
    "\n",
    "#x and y are different because\n",
    "#for x, the operation is e^1 = e or 2.718\n",
    "#for y, e^(-1) = .368, since the exponent is a negative number, the resulting output is a fraction"
   ]
  },
  {
   "cell_type": "markdown",
   "metadata": {},
   "source": [
    "# Problem 10"
   ]
  },
  {
   "cell_type": "code",
   "execution_count": 13,
   "metadata": {},
   "outputs": [
    {
     "name": "stdout",
     "output_type": "stream",
     "text": [
      "x =  1.1145338173100896\n",
      "y =  0.26008973689431575\n"
     ]
    }
   ],
   "source": [
    "x = (1 - 1 + math.log(2, math.e) ** -3.5) / (1 + math.sqrt(5))\n",
    "y = (1 - (1 + math.log(2, math.e))**-3.5) / (1 + math.sqrt(5))\n",
    "print('x = ', x)\n",
    "print('y = ', y)\n",
    "\n",
    "#x and y are different because\n",
    "#for x, the natural log is done first, then the exponent to get 3.61. The numerator, which is all in parantheses, reads 1 - 1 + 3.61, and that\n",
    "#condenses down to 3.61. The denominator is calculated first before dividing the fraction because of parantheses, and that's 3.24. The fraction is then \n",
    "#calculated to be 1.11\n",
    "\n",
    "#for y, 1 + ln(2) is calculated first because it's in the parantheses, yielding 1.69. Then the exponent for that term is calculated, which is 1.69^-3.5 =\n",
    "#.158. Then 1 - .158 is done for the numerator. The denominator is calculated first before dividing the fraction because of parantheses, and that's 3.24.\n",
    "#The whole fraction is now .260"
   ]
  },
  {
   "cell_type": "markdown",
   "metadata": {},
   "source": [
    "# Feedback\n",
    "1. This assignment took me roughly 2 hours.\n",
    "2. I thought this assignment was easy but not insanely easy.\n",
    "3. Not really."
   ]
  }
 ],
 "metadata": {
  "kernelspec": {
   "display_name": "Python 3",
   "language": "python",
   "name": "python3"
  },
  "language_info": {
   "codemirror_mode": {
    "name": "ipython",
    "version": 3
   },
   "file_extension": ".py",
   "mimetype": "text/x-python",
   "name": "python",
   "nbconvert_exporter": "python",
   "pygments_lexer": "ipython3",
   "version": "3.7.6"
  }
 },
 "nbformat": 4,
 "nbformat_minor": 4
}
