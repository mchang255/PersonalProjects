{
 "cells": [
  {
   "cell_type": "markdown",
   "metadata": {},
   "source": [
    "# Miranda Chang\n",
    "## M71 HW1\n",
    "### Using Markdown to create a nice notebook.\n",
    "#### _Date: 10/10/20_"
   ]
  },
  {
   "cell_type": "markdown",
   "metadata": {},
   "source": [
    "# Interesting facts about exoplanets\n",
    "* <u>51 Pegasi B</u> was the first exoplanet to be discovered around an orbiting star, back in 1995.\n",
    "* It was not until 2013 that _the color_ of an exoplanet was clearly identified, that color being _dark blue_ from HD 189733b.\n",
    "* The darkest exoplanet in the universe, TrES-2b, reflects __less than 1% of its host star's light__!\n",
    "    * In fact, it reflects even less light than <font color = 'red'> coal or black acrylic paint </font>!"
   ]
  },
  {
   "cell_type": "markdown",
   "metadata": {},
   "source": [
    "# How many exoplanets are out there?\n",
    "1. There's possibly 1 trillion exoplanets in the Milky Way.\n",
    "2. 1 in 5 Sun-like stars have an Earth-sized planet in the habitable zone, where liquid water can exist on the surface.\n",
    "3. There could be 2 rogue planets per star. Rogue planets are planets that are very far out from their star (not gravitationally bound) and orbit the galaxy directly.\n",
    "\n",
    "Source on these numbers can be found [here](https://nineplanets.org/exoplanets/#:~:text=More%20than%2022%25%20of%20Sun,exoplanets%20in%20the%20Milky%20Way.)."
   ]
  },
  {
   "cell_type": "markdown",
   "metadata": {},
   "source": [
    "# What we imagine (and wish) exoplanets look like ([source](https://ktla.com/wp-content/uploads/sites/4/2020/02/planet.jpg?w=1920&h=1080&crop=1)):\n",
    "\n",
    "![](https://ktla.com/wp-content/uploads/sites/4/2020/02/planet.jpg?w=1920&h=1080&crop=1)"
   ]
  },
  {
   "cell_type": "code",
   "execution_count": 3,
   "metadata": {},
   "outputs": [
    {
     "name": "stdout",
     "output_type": "stream",
     "text": [
      "12000000000.0 planets\n"
     ]
    }
   ],
   "source": [
    "sun_like_stars = 60e9         #60 billion Sun-like stars in Milky Way\n",
    "earthsize_exoplanet_chance = .2       #20% of those stars have an Earth-sized exoplanet\n",
    "\n",
    "earthsize_exoplanets = sun_like_stars * earthsize_exoplanet_chance            #calculation to find how many Earth-sized exoplanets are in the Milky Way\n",
    "\n",
    "print(earthsize_exoplanets, 'planets')    #approximating number of Earth-sized exoplanets in Milky Way"
   ]
  }
 ],
 "metadata": {
  "kernelspec": {
   "display_name": "Python 3",
   "language": "python",
   "name": "python3"
  },
  "language_info": {
   "codemirror_mode": {
    "name": "ipython",
    "version": 3
   },
   "file_extension": ".py",
   "mimetype": "text/x-python",
   "name": "python",
   "nbconvert_exporter": "python",
   "pygments_lexer": "ipython3",
   "version": "3.7.6"
  }
 },
 "nbformat": 4,
 "nbformat_minor": 4
}
