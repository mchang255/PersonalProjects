{
 "cells": [
  {
   "cell_type": "markdown",
   "metadata": {},
   "source": [
    "## Problem 1 - Keyboard Input (Earth and Mars density and volume calculation)"
   ]
  },
  {
   "cell_type": "markdown",
   "metadata": {},
   "source": [
    "### Problem 1.1"
   ]
  },
  {
   "cell_type": "code",
   "execution_count": 1,
   "metadata": {},
   "outputs": [
    {
     "name": "stdin",
     "output_type": "stream",
     "text": [
      "Enter Earth's radius in m 6.378e6\n",
      "Enter Earth's mass in kg 5.972e24\n",
      "Enter Mars' radius in m 3.396e6\n",
      "Enter Mars' mass in kg 6.417e23\n"
     ]
    }
   ],
   "source": [
    "earth_radius = input(\"Enter Earth's radius in m\") #Earth's radius input (m), 6.378e6\n",
    "earth_mass = input(\"Enter Earth's mass in kg\") #Earth's mass input (kg), 5.972e24\n",
    "mars_radius = input(\"Enter Mars' radius in m\") #Mars'radius input (m), 3.396e6\n",
    "mars_mass = input(\"Enter Mars' mass in kg\") #Mars' mass input (kg), 6.417e23"
   ]
  },
  {
   "cell_type": "markdown",
   "metadata": {},
   "source": [
    "### Problem 1.2"
   ]
  },
  {
   "cell_type": "code",
   "execution_count": 2,
   "metadata": {},
   "outputs": [
    {
     "name": "stdout",
     "output_type": "stream",
     "text": [
      "Earth's volume is 1086781292542889164800.00 m^3.\n",
      "Mars' volume is 164055824574195171328.00m^3.\n"
     ]
    }
   ],
   "source": [
    "import numpy as np\n",
    "#Calculating volume of each planet: volume = (4/3)(pi)(radius)^3 (m^3)\n",
    "\n",
    "#Earth's volume (m^3)\n",
    "earth_volume = (4/3)*(np.pi)*(float(earth_radius)**3) #convert string to float\n",
    "print(\"{0} volume is {1:0.2f} m^3.\".format(\"Earth's\", earth_volume))\n",
    "\n",
    "#Mars' volume (m^3)\n",
    "mars_volume = (4/3)*(np.pi)*(float(mars_radius)**3)\n",
    "print(\"{0} volume is {1:0.2f}m^3.\".format(\"Mars'\", mars_volume))"
   ]
  },
  {
   "cell_type": "markdown",
   "metadata": {},
   "source": [
    "### Problem 1.3"
   ]
  },
  {
   "cell_type": "code",
   "execution_count": 3,
   "metadata": {},
   "outputs": [
    {
     "name": "stdout",
     "output_type": "stream",
     "text": [
      "Earth's density is 5495.13 kg/m^3.\n",
      "Mars' density is 3911.47 kg/m^3.\n"
     ]
    }
   ],
   "source": [
    "#Calculating density of each planet: density = mass/volume\n",
    "\n",
    "#Earth (kg/m^3)\n",
    "earth_density = float(earth_mass) / earth_volume\n",
    "print(\"{0} density is {1:0.2f} kg/m^3.\".format(\"Earth's\", earth_density))\n",
    "\n",
    "#Mars (kg/m^3)\n",
    "mars_density = float(mars_mass) /mars_volume\n",
    "print(\"{0} density is {1:0.2f} kg/m^3.\".format(\"Mars'\", mars_density))"
   ]
  },
  {
   "cell_type": "markdown",
   "metadata": {},
   "source": [
    "### Problem 1.4"
   ]
  },
  {
   "cell_type": "code",
   "execution_count": 4,
   "metadata": {},
   "outputs": [
    {
     "name": "stdout",
     "output_type": "stream",
     "text": [
      "The density of Earth is approximately 5495.13 kg/m^3, and the density of Mars is approximately 3911.47 kg/m^3.\n"
     ]
    }
   ],
   "source": [
    "#Outputting densities in sentence\n",
    "print(\"The density of Earth is approximately {0:0.2f} kg/m^3, and the density of Mars is approximately {1:0.2f} kg/m^3.\".format(earth_density, mars_density))"
   ]
  },
  {
   "cell_type": "markdown",
   "metadata": {},
   "source": [
    "## Problem 2 - Basic Data I/O"
   ]
  },
  {
   "cell_type": "markdown",
   "metadata": {},
   "source": [
    "### Problem 2.1"
   ]
  },
  {
   "cell_type": "code",
   "execution_count": 5,
   "metadata": {},
   "outputs": [],
   "source": [
    "f, a, da = np.loadtxt(\"data.txt\", unpack = True) #reading in files, assigning columns \n",
    "                                                #frequency, amplitude, and aplitude error to each \n",
    "                                                #variable respectively"
   ]
  },
  {
   "cell_type": "markdown",
   "metadata": {},
   "source": [
    "### Problem 2.2"
   ]
  },
  {
   "cell_type": "code",
   "execution_count": 6,
   "metadata": {},
   "outputs": [
    {
     "data": {
      "text/plain": [
       "array([ 0.75  ,  1.7885,  2.8269,  3.8654,  4.9038,  5.9423,  6.9808,\n",
       "        8.0192,  9.0577, 10.0962, 11.1346, 12.1731, 13.2115, 14.25  ])"
      ]
     },
     "execution_count": 6,
     "metadata": {},
     "output_type": "execute_result"
    }
   ],
   "source": [
    "f #frequency array"
   ]
  },
  {
   "cell_type": "code",
   "execution_count": 7,
   "metadata": {},
   "outputs": [
    {
     "data": {
      "text/plain": [
       "array([13.52, 12.11, 14.27, 16.6 , 22.91, 35.28, 60.99, 33.38, 17.78,\n",
       "       10.99,  7.47,  6.72,  4.4 ,  4.07])"
      ]
     },
     "execution_count": 7,
     "metadata": {},
     "output_type": "execute_result"
    }
   ],
   "source": [
    "a #amplitude array"
   ]
  },
  {
   "cell_type": "code",
   "execution_count": 8,
   "metadata": {},
   "outputs": [
    {
     "data": {
      "text/plain": [
       "array([0.32, 0.92, 0.73, 2.06, 1.75, 0.91, 0.99, 0.36, 2.32, 0.21, 0.48,\n",
       "       0.51, 0.58, 0.63])"
      ]
     },
     "execution_count": 8,
     "metadata": {},
     "output_type": "execute_result"
    }
   ],
   "source": [
    "da #amplitude error array"
   ]
  },
  {
   "cell_type": "markdown",
   "metadata": {},
   "source": [
    "### Problem 2.3"
   ]
  },
  {
   "cell_type": "code",
   "execution_count": 9,
   "metadata": {},
   "outputs": [],
   "source": [
    "data = list(zip(f, a, da)) #loading data into a list\n",
    "f_out = (\"Chang_HW4P2Header.txt\") #outputted file name (txt format)\n",
    "\n",
    "#creating header\n",
    "top = \"Miranda Chang, HW4, Problem 2 Output File\"\n",
    "top += \"\\nDate: 2013-09-16\"\n",
    "top += \"\\nData Taken by Liam and Selena\"\n",
    "top += \"\\nfrequency (Hz)\\tamplitude (mm)\\tamp error (mm)\"\n",
    "\n",
    "np.savetxt(f_out, data, fmt = \"%15.4f %15.2f %15.2f\", header = top) #file with data and header\n",
    "                                    #first column has 4 decimal places, 2nd and 3rd with 2 decimals"
   ]
  },
  {
   "cell_type": "markdown",
   "metadata": {},
   "source": [
    "### Problem 2.4"
   ]
  },
  {
   "cell_type": "code",
   "execution_count": 10,
   "metadata": {},
   "outputs": [],
   "source": [
    "f, d, da = np.loadtxt(\"Chang_HW4P2Header.txt\", unpack = True) #reading file outputted from 2.3 into three columns\n",
    "\n",
    "f_out_csv = (\"Chang_HW4P2.csv\") #csv format\n",
    "data_csv = list(zip(f,d,da)) #zipping up data\n",
    "\n",
    "np.savetxt(f_out_csv, data_csv, fmt = \"%0.6e\", delimiter = \",\") #outputting to csv file, 6 decimals, scientific notation format"
   ]
  },
  {
   "cell_type": "markdown",
   "metadata": {},
   "source": [
    "## Problem 3 (Basic of Booleans)"
   ]
  },
  {
   "cell_type": "markdown",
   "metadata": {},
   "source": [
    "### Problem 3.1"
   ]
  },
  {
   "cell_type": "code",
   "execution_count": 11,
   "metadata": {},
   "outputs": [],
   "source": [
    "#Assigning arrays to temperature data\n",
    "\n",
    "#Chicago Temp\n",
    "TCH = np.array([75,79,86,86,79,81,73,89,91,86,81,82,86,88,89,90,82,84,81,79,73,69,73,79,82,72,66,71,69,66,66])\n",
    "\n",
    "# SF Temp\n",
    "TSF = np.array([69,68,70,73,72,71,69,76,85,87,74,84,76,68,79,75,68,68,73,72,79,68,68,69,71,70,89,95,90,66,69])"
   ]
  },
  {
   "cell_type": "markdown",
   "metadata": {},
   "source": [
    "### Problem 3.2"
   ]
  },
  {
   "cell_type": "code",
   "execution_count": 12,
   "metadata": {},
   "outputs": [
    {
     "name": "stdout",
     "output_type": "stream",
     "text": [
      "Length of TCH is 31\n",
      "Length of TSF is 31\n"
     ]
    }
   ],
   "source": [
    "#Confirming length to be 31\n",
    "print(\"Length of {} is {}\".format(\"TCH\", len(TCH)))\n",
    "print(\"Length of {} is {}\".format(\"TSF\", len(TSF)))"
   ]
  },
  {
   "cell_type": "markdown",
   "metadata": {},
   "source": [
    "### Problem 3.3"
   ]
  },
  {
   "cell_type": "code",
   "execution_count": 13,
   "metadata": {},
   "outputs": [
    {
     "name": "stdout",
     "output_type": "stream",
     "text": [
      "Average temperature for Chicago in August is 79.12903225806451˚F\n",
      "Average temperature for San Francisco in August is 74.54838709677419˚F\n"
     ]
    }
   ],
   "source": [
    "#Average temp for each city\n",
    "print(\"Average temperature for {} in August is {}˚F\".format(\"Chicago\", np.mean(TCH)))\n",
    "print(\"Average temperature for {} in August is {}˚F\".format(\"San Francisco\", np.mean(TSF)))"
   ]
  },
  {
   "cell_type": "markdown",
   "metadata": {},
   "source": [
    "### Problem 3.4"
   ]
  },
  {
   "cell_type": "code",
   "execution_count": 14,
   "metadata": {},
   "outputs": [
    {
     "name": "stdout",
     "output_type": "stream",
     "text": [
      "16 days were above the average temperature in Chicago\n",
      "11 days were above the average temperature in San Francisco\n"
     ]
    }
   ],
   "source": [
    "#checking how many days are above average temp\n",
    "\n",
    "#Chicago\n",
    "above_average_CH = (TCH > np.mean(TCH)) #boolean for above temp\n",
    "print(\"{} days were above the average temperature in {}\".format(len(TCH[above_average_CH]), \"Chicago\"))\n",
    "\n",
    "#San Francisco\n",
    "above_average_SF = (TSF > np.mean(TSF)) #boolean for above temp\n",
    "print(\"{} days were above the average temperature in {}\".format(len(TSF[above_average_SF]), \"San Francisco\"))"
   ]
  },
  {
   "cell_type": "markdown",
   "metadata": {},
   "source": [
    "### Problem 3.5"
   ]
  },
  {
   "cell_type": "code",
   "execution_count": 15,
   "metadata": {},
   "outputs": [
    {
     "name": "stdout",
     "output_type": "stream",
     "text": [
      "There were 23 days on the dates [ 1  2  3  4  5  6  7  8  9 11 13 14 15 16 17 18 19 20 22 23 24 25 26] where the temperature in San Francisco was lower than Chicago\n"
     ]
    }
   ],
   "source": [
    "#how many days and on which days in month is temp in SF lower than Chicago\n",
    "\n",
    "lower_in_SF = (TSF < TCH) #boolean condition\n",
    "len(TSF[lower_in_SF]) #how many days\n",
    "\n",
    "#finding dates\n",
    "dates = np.arange(1, 32, 1) #make array from 1-31, representing dates in August\n",
    "dates[lower_in_SF] #pluck out the Trues with the boolean condition\n",
    "\n",
    "print(\"There were {} days on the dates {} where the temperature in San Francisco was {} than Chicago\"\n",
    "      .format(len(TSF[lower_in_SF]), dates[lower_in_SF], \"lower\"))"
   ]
  },
  {
   "cell_type": "markdown",
   "metadata": {},
   "source": [
    "### Problem 3.6"
   ]
  },
  {
   "cell_type": "code",
   "execution_count": 16,
   "metadata": {},
   "outputs": [
    {
     "name": "stdout",
     "output_type": "stream",
     "text": [
      "There was 1 day on the date [30] where the temperature in San Francisco was the same as Chicago\n"
     ]
    }
   ],
   "source": [
    "#how many days and on which days in month is temp in SF same as Chicago\n",
    "\n",
    "same = (TSF == TCH) #boolean condition\n",
    "len(TSF[same]) #how many days\n",
    "\n",
    "#finding dates\n",
    "dates_2 = np.arange(1, 32, 1) #make array from 1-31, representing dates in August\n",
    "dates_2[same] #pluck out the Trues with the boolean condition\n",
    "\n",
    "print(\"There was {} day on the date {} where the temperature in San Francisco was {} as Chicago\"\n",
    "      .format(len(TSF[same]), dates_2[same], \"the same\"))"
   ]
  },
  {
   "cell_type": "markdown",
   "metadata": {},
   "source": [
    "## Problem 4 (Mid Ocean Ridge Data 1)"
   ]
  },
  {
   "cell_type": "markdown",
   "metadata": {},
   "source": [
    "### Problem 4.1"
   ]
  },
  {
   "cell_type": "code",
   "execution_count": 17,
   "metadata": {},
   "outputs": [],
   "source": [
    "name, age, depth = np.loadtxt(\"MOR_data.txt\", unpack = True, dtype = str) #reading in MOR_data into columns as str"
   ]
  },
  {
   "cell_type": "markdown",
   "metadata": {},
   "source": [
    "### Problem 4.2"
   ]
  },
  {
   "cell_type": "code",
   "execution_count": 18,
   "metadata": {},
   "outputs": [],
   "source": [
    "#converting age and depths to floats\n",
    "age = np.asarray(age, dtype=np.float)\n",
    "depth = np.asarray(depth, dtype=np.float)"
   ]
  },
  {
   "cell_type": "markdown",
   "metadata": {},
   "source": [
    "### Problem 4.3"
   ]
  },
  {
   "cell_type": "code",
   "execution_count": 19,
   "metadata": {},
   "outputs": [
    {
     "name": "stdout",
     "output_type": "stream",
     "text": [
      "[  0.3    0.3    0.4    0.5    0.69   0.69   1.6    1.7    2.     2.\n",
      "   3.37   4.     4.6    5.9    6.     6.    10.3   15.    15.    17.\n",
      "  18.    18.    18.    20.    28.    28.5   28.5   37.    39.    46.\n",
      "  54.    58.    59.    60.    64.    66.    71.    76.    78.    80.\n",
      "  81.   100.   101.   105.   110.   110.   110.   112.   112.   112.\n",
      " 115.   115.   123.   130.   135.   140.   148.   148.   160.   163.\n",
      " 170.  ]\n",
      "[2810. 2777. 2904. 2733. 2691. 2714. 3200. 3287. 3406. 3348. 3404. 3611.\n",
      " 3450. 3664. 3654. 3655. 3905. 3677. 3917. 4079. 4365. 4374. 3849. 4449.\n",
      " 4601. 4200. 4204. 4558. 4912. 4913. 5225. 5718. 5426. 5295. 5140. 5611.\n",
      " 5207. 5483. 5525. 5937. 5836. 5650. 5937. 5589. 5730. 5724. 5728. 5820.\n",
      " 5750. 5749. 5634. 5734. 5876. 5925. 5519. 6043. 5610. 5853. 5460. 5876.\n",
      " 6048.]\n",
      "['EPR' 'EPR' 'EPR' 'EPR' 'EPR' 'EPR' 'EPR' 'EPR' 'EPR' 'EPR' 'EPR' 'EPR'\n",
      " 'EPR' 'EPR' 'EPR' 'EPR' 'MAR' 'EPR' 'EPR' 'EPR' 'EPR' 'EPR' 'CIR' 'EPR'\n",
      " 'EPR' 'EPR' 'EPR' 'MAR' 'EPR' 'EPR' 'CIR' 'CIR' 'CIR' 'CIR' 'CIR' 'CIR'\n",
      " 'CIR' 'EPR' 'EPR' 'MAR' 'CIR' 'EPR' 'EPR' 'EPR' 'EPR' 'EPR' 'EPR' 'EPR'\n",
      " 'MAR' 'MAR' 'MAR' 'MAR' 'EPR' 'EPR' 'CIR' 'CIR' 'EPR' 'EPR' 'MAR' 'MAR'\n",
      " 'EPR']\n"
     ]
    }
   ],
   "source": [
    "#sorting the arrays by age\n",
    "sorted_age = age[np.argsort(age)]\n",
    "sorted_depth = depth[np.argsort(age)]\n",
    "sorted_name = name[np.argsort(age)]\n",
    "print(sorted_age)\n",
    "print(sorted_depth)\n",
    "print(sorted_name)"
   ]
  },
  {
   "cell_type": "markdown",
   "metadata": {},
   "source": [
    "### Problem 4.4"
   ]
  },
  {
   "cell_type": "code",
   "execution_count": 20,
   "metadata": {},
   "outputs": [],
   "source": [
    "#placing sorted arrays into file\n",
    "mor_data = list(zip(sorted_name, sorted_age, sorted_depth))\n",
    "np.savetxt(\"Chang_HW4P4.txt\", mor_data, fmt=\"%s\")"
   ]
  },
  {
   "cell_type": "markdown",
   "metadata": {},
   "source": [
    "### Problem 4.5"
   ]
  },
  {
   "cell_type": "code",
   "execution_count": 21,
   "metadata": {},
   "outputs": [
    {
     "data": {
      "image/png": "[encoded data removed]",
      "text/plain": [
       "<Figure size 432x288 with 1 Axes>"
      ]
     },
     "metadata": {
      "needs_background": "light"
     },
     "output_type": "display_data"
    }
   ],
   "source": [
    "import matplotlib.pyplot as plt\n",
    "\n",
    "plt.plot(sorted_age, sorted_depth, \"b-*\") #plotting age v depth, asterisks, line color is blue\n",
    "plt.title('Age vs Depth of Mid-Ocean Ridge, M. Chang, 11/2/20') #title\n",
    "\n",
    "plt.gca().invert_yaxis() #inverting y-axis so greatest depths are at bottom\n",
    "plt.xlabel(\"Age (mya)\") #x-axis in millions of years\n",
    "plt.ylabel(\"Depth (m)\") #y-axis in meters\n",
    "plt.grid() #adding grid lines\n",
    "\n",
    "plt.savefig(\"Chang_MOR.png\") #saving figure"
   ]
  },
  {
   "cell_type": "markdown",
   "metadata": {},
   "source": [
    "## Problem 5 (Mid Ocean Ridge Data 2)"
   ]
  },
  {
   "cell_type": "markdown",
   "metadata": {},
   "source": [
    "### Problem 5.1"
   ]
  },
  {
   "cell_type": "code",
   "execution_count": 22,
   "metadata": {},
   "outputs": [
    {
     "name": "stdout",
     "output_type": "stream",
     "text": [
      "[ 0.3   0.3   0.4   0.5   0.69  0.69  1.6   1.7   2.    2.    3.37  4.\n",
      "  4.6   5.9   6.    6.   10.3  15.   15.   17.   18.   18.   18.   20.\n",
      " 28.   28.5  28.5  37.   39.   46.   54.   58.   59.   60.   64.   66.\n",
      " 71.  ]\n"
     ]
    }
   ],
   "source": [
    "young_seafloor_BA = (sorted_age < 75) #boolean condition\n",
    "young_seafloor = sorted_age[young_seafloor_BA] #finding ages that are < 75 mya\n",
    "print(young_seafloor)"
   ]
  },
  {
   "cell_type": "markdown",
   "metadata": {},
   "source": [
    "### Problem 5.2"
   ]
  },
  {
   "cell_type": "code",
   "execution_count": 23,
   "metadata": {},
   "outputs": [
    {
     "name": "stdout",
     "output_type": "stream",
     "text": [
      "[ 76.  78.  80.  81. 100. 101. 105. 110. 110. 110. 112. 112. 112. 115.\n",
      " 115. 123. 130. 135. 140. 148. 148. 160. 163. 170.]\n"
     ]
    }
   ],
   "source": [
    "old_seafloor_BA = (sorted_age >= 75) #boolean condition\n",
    "old_seafloor = sorted_age[old_seafloor_BA] #finding ages that are greater than or equal to 75 mya\n",
    "print(old_seafloor)"
   ]
  },
  {
   "cell_type": "markdown",
   "metadata": {},
   "source": [
    "### Problem  5.3"
   ]
  },
  {
   "cell_type": "code",
   "execution_count": 24,
   "metadata": {},
   "outputs": [
    {
     "name": "stdout",
     "output_type": "stream",
     "text": [
      "[2810. 2777. 2904. 2733. 2691. 2714. 3200. 3287. 3406. 3348. 3404. 3611.\n",
      " 3450. 3664. 3654. 3655. 3905. 3677. 3917. 4079. 4365. 4374. 3849. 4449.\n",
      " 4601. 4200. 4204. 4558. 4912. 4913. 5225. 5718. 5426. 5295. 5140. 5611.\n",
      " 5207.]\n"
     ]
    }
   ],
   "source": [
    "depth_less75 = sorted_depth[young_seafloor_BA] #finding depths where ages are < 75 mya\n",
    "print(depth_less75)"
   ]
  },
  {
   "cell_type": "markdown",
   "metadata": {},
   "source": [
    "### Problem 5.4"
   ]
  },
  {
   "cell_type": "code",
   "execution_count": 25,
   "metadata": {},
   "outputs": [
    {
     "name": "stdout",
     "output_type": "stream",
     "text": [
      "[5483. 5525. 5937. 5836. 5650. 5937. 5589. 5730. 5724. 5728. 5820. 5750.\n",
      " 5749. 5634. 5734. 5876. 5925. 5519. 6043. 5610. 5853. 5460. 5876. 6048.]\n"
     ]
    }
   ],
   "source": [
    "depth_more75 = sorted_depth[old_seafloor_BA] #finding depths where ages are greater than or equal to 75 mya\n",
    "print(depth_more75)"
   ]
  },
  {
   "cell_type": "markdown",
   "metadata": {},
   "source": [
    "### Problem 5.5"
   ]
  },
  {
   "cell_type": "code",
   "execution_count": 26,
   "metadata": {},
   "outputs": [
    {
     "data": {
      "image/png": "[encoded data removed]",
      "text/plain": [
       "<Figure size 432x288 with 1 Axes>"
      ]
     },
     "metadata": {
      "needs_background": "light"
     },
     "output_type": "display_data"
    }
   ],
   "source": [
    "# < 75 mya vs corresponding depth, blue asterisks with no lines\n",
    "plt.plot(young_seafloor, depth_less75, \"b*\", label = \"Before 75 mya\")\n",
    "\n",
    "# >= 75 mya vs corresponding depth, red asterisks with no lines\n",
    "plt.plot(old_seafloor, depth_more75, \"r*\", label = \"After 75 mya\")\n",
    "\n",
    "plt.legend() #legend\n",
    "plt.title(\"Age vs Depth of Mid-Ocean Ridge Split, M. Chang, 11/2/2020\") #title\n",
    "\n",
    "plt.gca().invert_yaxis() #reversing y-axis, so largest depths at bottom\n",
    "plt.xlabel(\"Age (mya)\") #x-axis, age in millions of years\n",
    "plt.ylabel(\"Depth (m)\") #y-axis, depth in meters\n",
    "plt.grid()\n",
    "\n",
    "plt.savefig(\"Chang_MORSplit.png\")"
   ]
  },
  {
   "cell_type": "markdown",
   "metadata": {},
   "source": [
    "## Problem 6 (Working with Hurricane Data)"
   ]
  },
  {
   "cell_type": "markdown",
   "metadata": {},
   "source": [
    "### Problem 6.1"
   ]
  },
  {
   "cell_type": "code",
   "execution_count": 27,
   "metadata": {},
   "outputs": [],
   "source": [
    "yr, storm, hurr, maj_hurr = np.loadtxt(\"AtlanticStorms.txt\", skiprows = 2, unpack=True) #loading txt into variables"
   ]
  },
  {
   "cell_type": "markdown",
   "metadata": {},
   "source": [
    "### Problem 6.2"
   ]
  },
  {
   "cell_type": "code",
   "execution_count": 28,
   "metadata": {},
   "outputs": [
    {
     "name": "stdout",
     "output_type": "stream",
     "text": [
      "[1851. 1852. 1853. 1854. 1855. 1856. 1857. 1858. 1859. 1860. 1861. 1862.\n",
      " 1863. 1864. 1865. 1866. 1867. 1868. 1869. 1870. 1871. 1872. 1873. 1874.\n",
      " 1875. 1876. 1877. 1878. 1879. 1880. 1881. 1882. 1883. 1884. 1885. 1886.\n",
      " 1887. 1888. 1889. 1890. 1891. 1892. 1893. 1894. 1895. 1896. 1897. 1898.\n",
      " 1899. 1900. 1901. 1902. 1903. 1904. 1905. 1906. 1907. 1908. 1909. 1910.\n",
      " 1911. 1912. 1913. 1914. 1915. 1916. 1917. 1918. 1919. 1920. 1921. 1922.\n",
      " 1923. 1924. 1925. 1926. 1927. 1928. 1929. 1930. 1931. 1932. 1933. 1934.\n",
      " 1935. 1936. 1937. 1938. 1939. 1940. 1941. 1942. 1943. 1944. 1945. 1946.\n",
      " 1947. 1948. 1949. 1950. 1951. 1952. 1953. 1954. 1955. 1956. 1957. 1958.\n",
      " 1959. 1960. 1961. 1962. 1963. 1964. 1965. 1966. 1967. 1968. 1969. 1970.\n",
      " 1971. 1972. 1973. 1974. 1975. 1976. 1977. 1978. 1979. 1980. 1981. 1982.\n",
      " 1983. 1984. 1985. 1986. 1987. 1988. 1989. 1990. 1991. 1992. 1993. 1994.\n",
      " 1995. 1996. 1997. 1998. 1999. 2000. 2001. 2002. 2003. 2004. 2005. 2006.\n",
      " 2007. 2008. 2009. 2010. 2011. 2012. 2013. 2014.]\n"
     ]
    }
   ],
   "source": [
    "#printing arrays to screen\n",
    "print(yr) #year"
   ]
  },
  {
   "cell_type": "code",
   "execution_count": 29,
   "metadata": {},
   "outputs": [
    {
     "name": "stdout",
     "output_type": "stream",
     "text": [
      "[ 6.  5.  8.  5.  5.  6.  4.  6.  8.  7.  8.  6.  9.  5.  7.  7.  9.  4.\n",
      " 10. 11.  8.  5.  5.  7.  6.  5.  8. 12.  8. 11.  7.  6.  4.  4.  8. 12.\n",
      " 19.  9.  9.  4. 10.  9. 12.  7.  6.  7.  6. 11. 10.  7. 13.  5. 10.  6.\n",
      "  5. 11.  5. 10. 12.  5.  6.  7.  6.  1.  6. 15.  4.  6.  5.  5.  7.  5.\n",
      "  9. 11.  4. 11.  8.  6.  5.  3. 13. 15. 20. 13.  8. 17. 11.  9.  6.  9.\n",
      "  6. 11. 10. 14. 11.  7. 10. 10. 16. 16. 12. 11. 14. 16. 13.  8.  8. 10.\n",
      " 11.  7. 11.  5.  9. 12.  6. 11.  8.  8. 18. 10. 13.  7.  8. 11.  9. 10.\n",
      "  6. 12.  9. 11. 12.  6.  4. 13. 11.  6.  7. 12. 11. 14.  8.  7.  8.  7.\n",
      " 19. 13.  8. 14. 12. 15. 15. 12. 16. 15. 28. 10. 15. 16.  9. 19. 19. 19.\n",
      " 14.  8.]\n"
     ]
    }
   ],
   "source": [
    "print(storm) #number of tropical storms"
   ]
  },
  {
   "cell_type": "code",
   "execution_count": 30,
   "metadata": {},
   "outputs": [
    {
     "name": "stdout",
     "output_type": "stream",
     "text": [
      "[ 3.  5.  4.  3.  4.  4.  3.  6.  7.  6.  6.  3.  5.  3.  3.  6.  7.  3.\n",
      "  7. 10.  6.  4.  3.  4.  5.  4.  3. 10.  6.  9.  4.  4.  3.  4.  6. 10.\n",
      " 11.  6.  6.  2.  7.  5. 10.  5.  2.  6.  3.  5.  5.  3.  6.  3.  7.  4.\n",
      "  1.  6.  0.  6.  6.  3.  3.  4.  4.  0.  5. 10.  2.  4.  2.  4.  5.  3.\n",
      "  4.  5.  1.  8.  4.  4.  3.  2.  3.  6. 11.  7.  5.  7.  4.  4.  3.  6.\n",
      "  4.  4.  5.  8.  5.  3.  5.  6.  7. 11.  8.  5.  7.  7.  9.  4.  3.  7.\n",
      "  7.  4.  8.  3.  7.  6.  4.  7.  6.  5. 12.  5.  6.  3.  4.  4.  6.  6.\n",
      "  5.  5.  6.  9.  7.  2.  3.  5.  7.  4.  3.  5.  7.  8.  4.  4.  4.  3.\n",
      " 11.  9.  3. 10.  8.  8.  9.  4.  7.  9. 15.  5.  6.  8.  3. 12.  7. 10.\n",
      "  2.  6.]\n"
     ]
    }
   ],
   "source": [
    "print(hurr) #number of hurricanes"
   ]
  },
  {
   "cell_type": "code",
   "execution_count": 31,
   "metadata": {},
   "outputs": [
    {
     "name": "stdout",
     "output_type": "stream",
     "text": [
      "[1. 1. 2. 1. 1. 2. 0. 0. 1. 1. 0. 0. 0. 0. 0. 1. 1. 0. 1. 2. 2. 0. 2. 0.\n",
      " 1. 2. 1. 2. 2. 2. 0. 2. 2. 1. 0. 4. 2. 2. 0. 1. 1. 0. 5. 4. 0. 2. 0. 1.\n",
      " 2. 2. 0. 0. 1. 0. 1. 3. 0. 1. 4. 1. 0. 1. 0. 0. 3. 5. 2. 1. 1. 0. 2. 1.\n",
      " 1. 2. 0. 6. 1. 1. 1. 2. 1. 4. 6. 1. 3. 1. 1. 2. 1. 0. 3. 1. 2. 3. 2. 0.\n",
      " 2. 4. 2. 6. 3. 2. 3. 3. 4. 2. 2. 5. 2. 2. 7. 1. 2. 6. 1. 3. 1. 0. 5. 2.\n",
      " 1. 0. 1. 2. 3. 2. 1. 2. 2. 2. 3. 1. 1. 1. 3. 0. 1. 3. 2. 1. 2. 1. 1. 0.\n",
      " 5. 6. 1. 3. 5. 3. 4. 2. 3. 6. 7. 2. 2. 5. 2. 5. 4. 2. 0. 2.]\n"
     ]
    }
   ],
   "source": [
    "print(maj_hurr) #number of major hurricanes"
   ]
  },
  {
   "cell_type": "markdown",
   "metadata": {},
   "source": [
    "### Problem 6.3"
   ]
  },
  {
   "cell_type": "code",
   "execution_count": 32,
   "metadata": {},
   "outputs": [
    {
     "name": "stdout",
     "output_type": "stream",
     "text": [
      "The data recorded 164 years.\n",
      "164\n",
      "164\n",
      "164\n"
     ]
    }
   ],
   "source": [
    "print(\"The data recorded\", len(yr), \"years.\") #checking how many years the data recorded\n",
    "\n",
    "#confirming above length for each of arrays\n",
    "print(len(storm))\n",
    "print(len(hurr))\n",
    "print(len(maj_hurr))"
   ]
  },
  {
   "cell_type": "markdown",
   "metadata": {},
   "source": [
    "### Problem 6.4"
   ]
  },
  {
   "cell_type": "code",
   "execution_count": 33,
   "metadata": {},
   "outputs": [
    {
     "name": "stdout",
     "output_type": "stream",
     "text": [
      "For 72 years, the number of hurricanes was greater than 5.\n"
     ]
    }
   ],
   "source": [
    "#finding number of hurricanes greater than 5\n",
    "greater_5 = (hurr > 5) #boolean condition\n",
    "yr_greater_5 = yr[greater_5] #how many years\n",
    "print(\"For {} years, the number of hurricanes was greater than 5.\".format(len(yr_greater_5)))"
   ]
  },
  {
   "cell_type": "markdown",
   "metadata": {},
   "source": [
    "### Problem 6.5"
   ]
  },
  {
   "cell_type": "code",
   "execution_count": 34,
   "metadata": {},
   "outputs": [
    {
     "name": "stdout",
     "output_type": "stream",
     "text": [
      "For 0 years, the number of hurricanes was greater than the number of tropical storms.\n",
      "For 3 years, the number of hurricanes was equal to the number of tropical storms.\n",
      "For 161 years, the number of hurricanes was less than the number of tropical storms.\n",
      "For 32 years, the number of major hurricanes was zero.\n"
     ]
    }
   ],
   "source": [
    "#more hurricanes than storms\n",
    "greater_storm = (hurr > storm) #boolean condition\n",
    "yr_greater_storm = yr[greater_storm] #how many years\n",
    "print(\"For {} years, the number of hurricanes was {} the number of tropical storms.\"\n",
    "      .format(len(yr_greater_storm), \"greater than\"))\n",
    "\n",
    "#number of hurricanes = number of storms\n",
    "equal_storm = (hurr == storm) #boolean condition\n",
    "yr_equal_storm = yr[equal_storm] #how many years\n",
    "print(\"For {} years, the number of hurricanes was {} the number of tropical storms.\"\n",
    "      .format(len(yr_equal_storm), \"equal to\"))\n",
    "\n",
    "#less hurricanes than storms\n",
    "less_storm = (hurr < storm) #boolean condition\n",
    "yr_less_storm = yr[less_storm] #how many years\n",
    "print(\"For {} years, the number of hurricanes was {} the number of tropical storms.\"\n",
    "      .format(len(yr_less_storm), \"less than\"))\n",
    "\n",
    "#years with number of major hurricanes being zero\n",
    "zero_maj = (maj_hurr == 0) #boolean condition\n",
    "yr_zero_maj = yr[zero_maj] #how many years\n",
    "print(\"For {} years, the number of major hurricanes was zero.\".format(len(yr_zero_maj)))"
   ]
  },
  {
   "cell_type": "markdown",
   "metadata": {},
   "source": [
    "### Problem 6.6"
   ]
  },
  {
   "cell_type": "code",
   "execution_count": 35,
   "metadata": {},
   "outputs": [
    {
     "name": "stdout",
     "output_type": "stream",
     "text": [
      "The number of hurricanes was equal to the number of tropical storms during the years [1852. 1858. 1884.].\n"
     ]
    }
   ],
   "source": [
    "print(\"The number of hurricanes was equal to the number of tropical storms during the years {}.\"\n",
    "      .format(yr_equal_storm)) #printing out dates for when number of hurricanes equalled number of stroms"
   ]
  },
  {
   "cell_type": "markdown",
   "metadata": {},
   "source": [
    "### Problem 6.7"
   ]
  },
  {
   "cell_type": "code",
   "execution_count": 36,
   "metadata": {},
   "outputs": [
    {
     "name": "stdout",
     "output_type": "stream",
     "text": [
      "The number of major hurricanes was zero during the years [1857. 1858. 1861. 1862. 1863. 1864. 1865. 1868. 1872. 1874. 1881. 1885.\n",
      " 1889. 1892. 1895. 1897. 1901. 1902. 1904. 1907. 1911. 1913. 1914. 1920.\n",
      " 1925. 1940. 1946. 1968. 1972. 1986. 1994. 2013.].\n"
     ]
    }
   ],
   "source": [
    "print(\"The number of major hurricanes was zero during the years {}.\".format(yr_zero_maj)) #printing out dates for\n",
    "                                                                            #when number of hurricanes were zero"
   ]
  },
  {
   "cell_type": "markdown",
   "metadata": {},
   "source": [
    "### Problem 6.8"
   ]
  },
  {
   "cell_type": "code",
   "execution_count": 37,
   "metadata": {},
   "outputs": [
    {
     "data": {
      "image/png": "[encoded data removed]",
      "text/plain": [
       "<Figure size 432x288 with 1 Axes>"
      ]
     },
     "metadata": {
      "needs_background": "light"
     },
     "output_type": "display_data"
    }
   ],
   "source": [
    "plt.plot(yr, storm, \"r-\", label = \"Storms\") #year vs number of storms, red line\n",
    "plt.plot(yr, hurr, \"b-\", label = \"Hurricanes\") #year vs number of hurricanes, blue line\n",
    "plt.plot(yr, maj_hurr, \"g-\", label = \"Major Hurricanes\") #year vs major hurricanes, green line\n",
    "\n",
    "plt.legend() #legend\n",
    "plt.grid() #grid lines\n",
    "\n",
    "plt.title(\"Number of Tropical Cyclones Per Year, M. Chang, 11/2/2020\") #title\n",
    "\n",
    "#axes\n",
    "plt.xlabel(\"Year\")\n",
    "plt.ylabel(\"Number\")\n",
    "\n",
    "plt.savefig(\"Chang_HurrStorm.png\") #saving pic"
   ]
  },
  {
   "cell_type": "markdown",
   "metadata": {},
   "source": [
    "## Feedback\n",
    "1. About 6 hours\n",
    "2. A little on the difficult side\n",
    "3. Almost\n",
    "4. Go over commands that will be used in the homework (and by extension what we need to in class) as for some\n",
    "    problems I had to look up some commands I wasn't exactly familiar with, and I wasn't sure if that was right or\n",
    "    not"
   ]
  }
 ],
 "metadata": {
  "kernelspec": {
   "display_name": "Python 3",
   "language": "python",
   "name": "python3"
  },
  "language_info": {
   "codemirror_mode": {
    "name": "ipython",
    "version": 3
   },
   "file_extension": ".py",
   "mimetype": "text/x-python",
   "name": "python",
   "nbconvert_exporter": "python",
   "pygments_lexer": "ipython3",
   "version": "3.7.6"
  }
 },
 "nbformat": 4,
 "nbformat_minor": 4
}
