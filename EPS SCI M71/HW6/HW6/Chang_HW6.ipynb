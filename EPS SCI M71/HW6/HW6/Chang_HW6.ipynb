{
 "cells": [
  {
   "cell_type": "markdown",
   "metadata": {},
   "source": [
    "## Problem 1 (Loops and Conditionals)"
   ]
  },
  {
   "cell_type": "code",
   "execution_count": 1,
   "metadata": {},
   "outputs": [],
   "source": [
    "import numpy as np\n",
    "import matplotlib.pyplot as plt"
   ]
  },
  {
   "cell_type": "markdown",
   "metadata": {},
   "source": [
    "### Problem 1.1"
   ]
  },
  {
   "cell_type": "code",
   "execution_count": 2,
   "metadata": {},
   "outputs": [
    {
     "name": "stdout",
     "output_type": "stream",
     "text": [
      "The required number is: 17435\n"
     ]
    }
   ],
   "source": [
    "i = 1 #starting from one\n",
    "\n",
    "while ((i%11 != 0)or(np.sqrt(i) <= 132)or(i%2 == 0)): #keeps going as long is i is not divisible by 11 or its square root is not greather than 132\n",
    "    i += 1 #incrementing after each run\n",
    "\n",
    "print(\"The required number is:\", i)"
   ]
  },
  {
   "cell_type": "markdown",
   "metadata": {},
   "source": [
    "### Problem 1.2"
   ]
  },
  {
   "cell_type": "code",
   "execution_count": 3,
   "metadata": {},
   "outputs": [
    {
     "name": "stdout",
     "output_type": "stream",
     "text": [
      "[5, 11.1, 0, 8.1, 0, 3, 3, 2.5]\n",
      "[-3.5, -6.2, -9, -1]\n"
     ]
    }
   ],
   "source": [
    "x = [-3.5, 5, -6.2, 11.1, 0, 8.1, -9, 0, 3, -1, 3, 2.5] #x list with numbers\n",
    "P = [] #positive array\n",
    "N = [] #negative array\n",
    "\n",
    "for n in x:\n",
    "    if (n >= 0): #if n is positive add to P\n",
    "        P.append(n)\n",
    "    else: #if n is negative add to N\n",
    "        N.append(n)\n",
    "\n",
    "print(P)\n",
    "print(N)"
   ]
  },
  {
   "cell_type": "markdown",
   "metadata": {},
   "source": [
    "### Problem 1.3"
   ]
  },
  {
   "cell_type": "code",
   "execution_count": 4,
   "metadata": {},
   "outputs": [
    {
     "name": "stdout",
     "output_type": "stream",
     "text": [
      "[ 5.  11.1  0.   8.1  0.   3.   3.   2.5]\n",
      "[-3.5 -6.2 -9.  -1. ]\n"
     ]
    }
   ],
   "source": [
    "x = np.array(x) #making list array\n",
    "\n",
    "positive_BA = (x >= 0) #boolean slicing positive numbers\n",
    "P = x[positive_BA]\n",
    "\n",
    "negative_BA = (x < 0) #boolean slicing negative numbers\n",
    "N = x[negative_BA]\n",
    "\n",
    "print(P)\n",
    "print(N)\n",
    "\n",
    "#In my opinion I prefer using conditional statements and loops since it's easier to follow"
   ]
  },
  {
   "cell_type": "markdown",
   "metadata": {},
   "source": [
    "### Problem 1.4"
   ]
  },
  {
   "cell_type": "code",
   "execution_count": 5,
   "metadata": {},
   "outputs": [
    {
     "name": "stdout",
     "output_type": "stream",
     "text": [
      "The integer is 36 and the corresponding sum is 666\n"
     ]
    }
   ],
   "source": [
    "n = 0\n",
    "interval = [0]\n",
    "addition = 0\n",
    "divisor = '11'\n",
    "\n",
    "for x in interval:\n",
    "    addition = addition + x #adding integers until last number n\n",
    "    if (x == n):\n",
    "        if ((addition >= 100)and(addition <= 1000)): #checking if sum is greater than or equal to 100 and less than or equal to 1000 \n",
    "            if(len(str(addition)) == len(divisor)): #checking if sum's digits are identical\n",
    "                if((addition%(int(divisor))) == 0):\n",
    "                    print(\"The integer is\", n, \"and the corresponding sum is\", addition)\n",
    "                else:\n",
    "                    n +=1\n",
    "                    interval.append(n)\n",
    "            else:\n",
    "                if(len(str(addition)) < len(divisor)):\n",
    "                    n +=1\n",
    "                    interval.append(n)\n",
    "                elif(len(str(addition)) > len(divisor)):\n",
    "                    while(len(str(addition)) > len(divisor)): #if a digits are identical, it will be divisible by a number containing only ones\n",
    "                        divisor = divisor + '1'\n",
    "                    if((addition%(int(divisor))) == 0):\n",
    "                        print(\"The integer is\", n, \"and the corresponding sum is\", addition)\n",
    "                    else:\n",
    "                        n +=1\n",
    "                        interval.append(n)             \n",
    "        else:\n",
    "            n += 1\n",
    "            interval.append(n)"
   ]
  },
  {
   "cell_type": "markdown",
   "metadata": {},
   "source": [
    "## Problem 2 (3-Day Weather Station Import)"
   ]
  },
  {
   "cell_type": "markdown",
   "metadata": {},
   "source": [
    "### Problem 2.1"
   ]
  },
  {
   "cell_type": "code",
   "execution_count": 6,
   "metadata": {},
   "outputs": [
    {
     "name": "stdout",
     "output_type": "stream",
     "text": [
      "[345600. 345610. 345620. ... 604770. 604780. 604790.]\n"
     ]
    }
   ],
   "source": [
    "time, atm, temp, inten = [], [], [], []\n",
    "\n",
    "drctry1 = \"HW6_CCLE/\"\n",
    "drctry2 = \"DataFiles/\"\n",
    "\n",
    "for n in [19, 20, 21]:\n",
    "    file = drctry1 + drctry2 + \"Weather_Data_13-04-\" + str(n) +\"_1306.lvm\"\n",
    "    a,b,c,d = np.loadtxt(file, skiprows = 22, unpack = True)\n",
    "    \n",
    "    time += list(a)\n",
    "    atm += list(b)\n",
    "    temp += list(c)\n",
    "    inten += list(d)\n",
    "\n",
    "time = np.array(time)\n",
    "atm = np.array(atm)\n",
    "temp = np.array(temp)\n",
    "inten = np.array(inten)\n",
    "\n",
    "print(time)"
   ]
  },
  {
   "cell_type": "markdown",
   "metadata": {},
   "source": [
    "### Problem 2.2"
   ]
  },
  {
   "cell_type": "code",
   "execution_count": 7,
   "metadata": {},
   "outputs": [
    {
     "name": "stdout",
     "output_type": "stream",
     "text": [
      "25920\n",
      "25920\n",
      "25920\n",
      "25920\n"
     ]
    }
   ],
   "source": [
    "#checking length\n",
    "print(len(time))\n",
    "print(len(atm))\n",
    "print(len(temp))\n",
    "print(len(inten))"
   ]
  },
  {
   "cell_type": "markdown",
   "metadata": {},
   "source": [
    "### Problem 2.3"
   ]
  },
  {
   "cell_type": "code",
   "execution_count": 8,
   "metadata": {},
   "outputs": [
    {
     "name": "stdout",
     "output_type": "stream",
     "text": [
      "[0.54627894 0.54639468 0.54651042 ... 3.54593171 3.54604745 3.54616319]\n"
     ]
    }
   ],
   "source": [
    "#making time array starting at 0.5462 days and ending at 3.5462 days\n",
    "time = (time - (time[0])) / 86400 #difference in array and converting to days, 1 day = 86400 s\n",
    "\n",
    "#adjusting starting point (starting at 13:06:38.5)\n",
    "hour = 13 / 24\n",
    "minute = 6 / 1440\n",
    "second = 38.5 / 86400\n",
    "\n",
    "start_time = hour + minute + second #converting 13:06:38.5 to days\n",
    "\n",
    "time = time + start_time #new array\n",
    "\n",
    "print(time)"
   ]
  },
  {
   "cell_type": "markdown",
   "metadata": {},
   "source": [
    "### Problem 2.4"
   ]
  },
  {
   "cell_type": "code",
   "execution_count": 9,
   "metadata": {},
   "outputs": [
    {
     "data": {
      "image/png": "[encoded data removed]",
      "text/plain": [
       "<Figure size 540x720 with 3 Axes>"
      ]
     },
     "metadata": {
      "needs_background": "light"
     },
     "output_type": "display_data"
    }
   ],
   "source": [
    "plt.figure(1, figsize = (7.5, 10)) #figure size\n",
    "y_axis = np.array([[12, 35], [0, 10000], [102.1, 103.1]]) #y-limits for y-axis for each subplot\n",
    "labels = [\"Temperature (˚C)\", \"Pressure (kPa)\", \"Light intensity (lux)\"] #labels for each subplot\n",
    "data = [temp, inten, atm] #data for each subplot\n",
    "\n",
    "for x in [0, 1, 2]:\n",
    "    plt.subplot(3, 1, x+1)\n",
    "    plt.xlim(0,4)\n",
    "    plt.ylim(y_axis[x][0], y_axis[x][1])\n",
    "    plt.plot(time, data[x], linewidth = 0.5, color=\"black\")\n",
    "    \n",
    "    min_BA = (data[x] == np.min(data[x])) #boolean conditions for max and min times\n",
    "    day_min = time[min_BA]\n",
    "    \n",
    "    max_BA = (data[x] == np.max(data[x]))\n",
    "    day_max = time[max_BA]\n",
    "    \n",
    "    plt.axvline(color = \"blue\", x = day_min[0], label = \"Minimum\") #day of min value\n",
    "    plt.axvline(color = \"red\", x = day_max[0], label = \"Maximum\") #day of max value\n",
    "    \n",
    "    plt.xlabel(\"Time (days)\")\n",
    "    plt.ylabel(labels[x])\n",
    "    plt.grid()\n",
    "\n",
    "plt.suptitle(\"3Day WSD Import: M. Chang, 11/17/20\", y = 0.9)\n",
    "plt.savefig(\"Chang_3DayWSD.png\", dpi = 200)"
   ]
  }
 ],
 "metadata": {
  "kernelspec": {
   "display_name": "Python 3",
   "language": "python",
   "name": "python3"
  },
  "language_info": {
   "codemirror_mode": {
    "name": "ipython",
    "version": 3
   },
   "file_extension": ".py",
   "mimetype": "text/x-python",
   "name": "python",
   "nbconvert_exporter": "python",
   "pygments_lexer": "ipython3",
   "version": "3.8.3"
  }
 },
 "nbformat": 4,
 "nbformat_minor": 4
}
