{
 "cells": [
  {
   "cell_type": "markdown",
   "metadata": {},
   "source": [
    "## EPSS M71 Midterm, 11-19-20\n",
    "## Miranda Chang"
   ]
  },
  {
   "cell_type": "code",
   "execution_count": 2,
   "metadata": {},
   "outputs": [],
   "source": [
    "import numpy as np\n",
    "import matplotlib.pyplot as plt"
   ]
  },
  {
   "cell_type": "markdown",
   "metadata": {},
   "source": [
    "## Reading Data"
   ]
  },
  {
   "cell_type": "code",
   "execution_count": 8,
   "metadata": {},
   "outputs": [
    {
     "name": "stdout",
     "output_type": "stream",
     "text": [
      "200\n",
      "200\n"
     ]
    }
   ],
   "source": [
    "dist, el = np.loadtxt(\"Midterm-M71F20/CarrizoFault.txt\", unpack = True) #loading in data\n",
    "\n",
    "#checking length\n",
    "print(len(dist))\n",
    "print(len(el))"
   ]
  },
  {
   "cell_type": "markdown",
   "metadata": {},
   "source": [
    "## Making Subplots"
   ]
  },
  {
   "cell_type": "code",
   "execution_count": 1,
   "metadata": {},
   "outputs": [
    {
     "ename": "NameError",
     "evalue": "name 'plt' is not defined",
     "output_type": "error",
     "traceback": [
      "\u001b[1;31m---------------------------------------------------------------------------\u001b[0m",
      "\u001b[1;31mNameError\u001b[0m                                 Traceback (most recent call last)",
      "\u001b[1;32m<ipython-input-1-c35a3263dac6>\u001b[0m in \u001b[0;36m<module>\u001b[1;34m\u001b[0m\n\u001b[1;32m----> 1\u001b[1;33m \u001b[0mf1\u001b[0m \u001b[1;33m=\u001b[0m \u001b[0mplt\u001b[0m\u001b[1;33m.\u001b[0m\u001b[0mfigure\u001b[0m\u001b[1;33m(\u001b[0m\u001b[0mfigsize\u001b[0m\u001b[1;33m=\u001b[0m\u001b[1;33m(\u001b[0m\u001b[1;36m12\u001b[0m\u001b[1;33m,\u001b[0m\u001b[1;36m12\u001b[0m\u001b[1;33m)\u001b[0m\u001b[1;33m)\u001b[0m\u001b[1;33m\u001b[0m\u001b[1;33m\u001b[0m\u001b[0m\n\u001b[0m\u001b[0;32m      2\u001b[0m \u001b[1;33m\u001b[0m\u001b[0m\n\u001b[0;32m      3\u001b[0m \u001b[1;31m#Upper left plot\u001b[0m\u001b[1;33m\u001b[0m\u001b[1;33m\u001b[0m\u001b[1;33m\u001b[0m\u001b[0m\n\u001b[0;32m      4\u001b[0m \u001b[0max1\u001b[0m \u001b[1;33m=\u001b[0m \u001b[0mf1\u001b[0m\u001b[1;33m.\u001b[0m\u001b[0madd_subplot\u001b[0m\u001b[1;33m(\u001b[0m\u001b[1;36m221\u001b[0m\u001b[1;33m)\u001b[0m\u001b[1;33m\u001b[0m\u001b[1;33m\u001b[0m\u001b[0m\n\u001b[0;32m      5\u001b[0m \u001b[0max1\u001b[0m\u001b[1;33m.\u001b[0m\u001b[0mplot\u001b[0m\u001b[1;33m(\u001b[0m\u001b[0mdist\u001b[0m\u001b[1;33m,\u001b[0m\u001b[0mel\u001b[0m\u001b[1;33m,\u001b[0m\u001b[1;34m\"ro\"\u001b[0m\u001b[1;33m,\u001b[0m\u001b[0mlabel\u001b[0m\u001b[1;33m=\u001b[0m\u001b[1;34m\"axis equal\"\u001b[0m\u001b[1;33m)\u001b[0m \u001b[1;31m#graphing, making the data red with circles\u001b[0m\u001b[1;33m\u001b[0m\u001b[1;33m\u001b[0m\u001b[0m\n",
      "\u001b[1;31mNameError\u001b[0m: name 'plt' is not defined"
     ]
    }
   ],
   "source": [
    "f1 = plt.figure(figsize=(12,12))\n",
    "\n",
    "#Upper left plot\n",
    "ax1 = f1.add_subplot(221)\n",
    "ax1.plot(dist,el,\"ro\",label=\"axis equal\") #graphing, making the data red with circles\n",
    "ax1.axis(\"equal\") #setting the axes to be of equal ratio\n",
    "\n",
    "#labels, legend, and grid\n",
    "ax1.set_xlabel(\"Perpendicular Distance [m]\",fontsize=16)\n",
    "ax1.set_ylabel(\"Slope Elevation [m]\",fontsize=16)\n",
    "ax1.grid()\n",
    "ax1.legend(fontsize=16, loc=\"upper left\")\n",
    "\n",
    "#Lower plot\n",
    "ddist = np.diff(dist) \n",
    "d_el = np.diff(el)\n",
    "s = d_el / ddist #calculating slope, change in elevation\n",
    "ax2 = f1.add_subplot(212)\n",
    "ax2.plot(dist[0:len(dist)-1],s,\"o-\",color=\"black\") #plotting slope vs distance with black circles and line\n",
    "\n",
    "#labels\n",
    "ax2.set_xlabel(\"Fault Perpendicular Distance [m]\", fontsize=16)\n",
    "ax2.set_ylabel(\"Slope [m/m]\", fontsize=16)\n",
    "ax2.grid()\n",
    "\n",
    "#Upper right plot\n",
    "ax3 = f1.add_subplot(2,2,2)\n",
    "ax3.plot(dist,el,\"bo\", label = \"vertically exaggerated\") #plotting distance vs elevation\n",
    "ax3.set_xlabel(\"Perpendicular Distance [m]\",fontsize=16)\n",
    "ax3.set_ylabel(\"Slope Elevation [m]\",fontsize=16)\n",
    "ax3.grid(zorder=-2) #putting grid behind everything\n",
    "ax3.legend(fontsize=16)\n",
    "ax3.set_ylim(636,654) #settling limits for y-axis\n",
    "\n",
    "#Slicing out data where slope is greatest\n",
    "max_slope_BA = (s == np.max(s))\n",
    "max_slope = el[0:len(el)-1][max_slope_BA] #where slope is greatest in the elevation\n",
    "max_slope_dist = dist[0:len(dist)-1][max_slope_BA] #where slope is greatest in the distance\n",
    "\n",
    "\n",
    "ax3.vlines(x=max_slope_dist,ymin=max_slope,ymax=654, color=\"red\",ls=\"--\",zorder=-1) #above slope max for elevation\n",
    "ax3.vlines(x=max_slope_dist,ymin=0,ymax=max_slope,color=\"green\",ls=\"--\",zorder=-1) #below slope max for elevation\n",
    "ax3.text(.53,.1,\"Max. Slope\", fontsize=12,rotation = \"90\", transform = ax3.transAxes)#label for that line\n",
    "\n",
    "plt.suptitle(\"Fault Scarp, Carrizo Plain, CA; Miranda Chang 11-19-20\", y =0.91, fontsize=16)\n",
    "plt.savefig(\"Chang_MdtrmF20.png\", bbox_inches=\"tight\", dpi=150)"
   ]
  },
  {
   "cell_type": "markdown",
   "metadata": {},
   "source": [
    "I got not outside help - Miranda Chang"
   ]
  },
  {
   "cell_type": "code",
   "execution_count": null,
   "metadata": {},
   "outputs": [],
   "source": []
  }
 ],
 "metadata": {
  "kernelspec": {
   "display_name": "Python 3",
   "language": "python",
   "name": "python3"
  },
  "language_info": {
   "codemirror_mode": {
    "name": "ipython",
    "version": 3
   },
   "file_extension": ".py",
   "mimetype": "text/x-python",
   "name": "python",
   "nbconvert_exporter": "python",
   "pygments_lexer": "ipython3",
   "version": "3.8.3"
  }
 },
 "nbformat": 4,
 "nbformat_minor": 4
}
